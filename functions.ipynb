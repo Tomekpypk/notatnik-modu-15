{
 "cells": [
  {
   "cell_type": "markdown",
   "id": "3552fd2e-eab3-44e2-9201-22a637b747e2",
   "metadata": {},
   "source": [
    "Aby stworzyć funkcję w Pythonie, używamy słowa kluczowego \"def\", po którym następuje nazwa funkcji, a następnie nawiasy okrągłe z ewentualnymi parametrami funkcji. Po nawiasach okrągłych umieszczamy dwukropek, co oznacza początek bloku kodu funkcji. W tym bloku umieszczamy instrukcje, które chcemy wykonać w ramach funkcji. Funkcję możemy zdefiniować bez parametrów, ale musimy zachować nawiasy okrągłe.\n"
   ]
  },
  {
   "cell_type": "code",
   "execution_count": 1,
   "id": "2f162bb4-3df0-423d-9112-99f67040b16f",
   "metadata": {},
   "outputs": [],
   "source": [
    "def dodawanie(a, b):\n",
    "    return a + b"
   ]
  },
  {
   "cell_type": "markdown",
   "id": "7ec78032-e885-4275-943e-2d2eb3af4f8f",
   "metadata": {},
   "source": [
    "Aby wywołać funkcję w Pythonie, używamy nazwy funkcji, po której następują nawiasy okrągłe z argumentami (jeśli funkcja je przyjmuje). Argumenty przekazywane są do funkcji w nawiasach okrągłych, a wynik działania funkcji możemy przechwycić i wykorzystać w dalszej części kodu.\n"
   ]
  },
  {
   "cell_type": "code",
   "execution_count": 2,
   "id": "0fd315c1-7cc8-4325-a116-d6102f8fc0f8",
   "metadata": {},
   "outputs": [
    {
     "name": "stdout",
     "output_type": "stream",
     "text": [
      "Wynik dodawania:  8\n"
     ]
    }
   ],
   "source": [
    "wynik = dodawanie(5, 3)\n",
    "print(\"Wynik dodawania: \", wynik)"
   ]
  },
  {
   "cell_type": "code",
   "execution_count": null,
   "id": "0a458b20-5443-4810-969d-1e81143a24d5",
   "metadata": {},
   "outputs": [],
   "source": []
  }
 ],
 "metadata": {
  "kernelspec": {
   "display_name": "Python 3 (ipykernel)",
   "language": "python",
   "name": "python3"
  },
  "language_info": {
   "codemirror_mode": {
    "name": "ipython",
    "version": 3
   },
   "file_extension": ".py",
   "mimetype": "text/x-python",
   "name": "python",
   "nbconvert_exporter": "python",
   "pygments_lexer": "ipython3",
   "version": "3.12.1"
  }
 },
 "nbformat": 4,
 "nbformat_minor": 5
}
